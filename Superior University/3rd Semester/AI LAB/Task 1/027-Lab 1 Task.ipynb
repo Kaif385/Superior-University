{
 "cells": [
  {
   "cell_type": "code",
   "execution_count": 1,
   "id": "c85567ec-2ee9-4988-9718-0074b19fdd18",
   "metadata": {},
   "outputs": [
    {
     "name": "stdout",
     "output_type": "stream",
     "text": [
      "Welcome to Hangman!\n",
      "Try to guess the word letter by letter. You have 6 attempts.\n",
      "Word: _ _ _ _ _ _ _ _ _ _ _\n",
      "Attempts left: 6\n",
      "Guessed letters: \n",
      "\n",
      "             -----\n",
      "             |   |\n",
      "                 |\n",
      "                 |\n",
      "                 |\n",
      "                 |\n",
      "            \n"
     ]
    },
    {
     "name": "stdin",
     "output_type": "stream",
     "text": [
      "Guess a letter:  p\n"
     ]
    },
    {
     "name": "stdout",
     "output_type": "stream",
     "text": [
      "Good guess! 'p' is in the word.\n",
      "Word: _ _ _ _ _ _ p _ _ _ _\n",
      "Attempts left: 6\n",
      "Guessed letters: p\n",
      "\n",
      "             -----\n",
      "             |   |\n",
      "                 |\n",
      "                 |\n",
      "                 |\n",
      "                 |\n",
      "            \n"
     ]
    },
    {
     "name": "stdin",
     "output_type": "stream",
     "text": [
      "Guess a letter:  r\n"
     ]
    },
    {
     "name": "stdout",
     "output_type": "stream",
     "text": [
      "Oops! 'r' is not in the word.\n",
      "Word: _ _ _ _ _ _ p _ _ _ _\n",
      "Attempts left: 5\n",
      "Guessed letters: p, r\n",
      "\n",
      "             -----\n",
      "             |   |\n",
      "             O   |\n",
      "                 |\n",
      "                 |\n",
      "                 |\n",
      "            \n"
     ]
    },
    {
     "name": "stdin",
     "output_type": "stream",
     "text": [
      "Guess a letter:  a\n"
     ]
    },
    {
     "name": "stdout",
     "output_type": "stream",
     "text": [
      "Oops! 'a' is not in the word.\n",
      "Word: _ _ _ _ _ _ p _ _ _ _\n",
      "Attempts left: 4\n",
      "Guessed letters: p, r, a\n",
      "\n",
      "             -----\n",
      "             |   |\n",
      "             O   |\n",
      "             |   |\n",
      "                 |\n",
      "                 |\n",
      "            \n"
     ]
    },
    {
     "name": "stdin",
     "output_type": "stream",
     "text": [
      "Guess a letter:  h\n"
     ]
    },
    {
     "name": "stdout",
     "output_type": "stream",
     "text": [
      "Oops! 'h' is not in the word.\n",
      "Word: _ _ _ _ _ _ p _ _ _ _\n",
      "Attempts left: 3\n",
      "Guessed letters: p, r, a, h\n",
      "\n",
      "             -----\n",
      "             |   |\n",
      "             O   |\n",
      "            /|   |\n",
      "                 |\n",
      "                 |\n",
      "            \n"
     ]
    },
    {
     "name": "stdin",
     "output_type": "stream",
     "text": [
      "Guess a letter:  i\n"
     ]
    },
    {
     "name": "stdout",
     "output_type": "stream",
     "text": [
      "Oops! 'i' is not in the word.\n",
      "Word: _ _ _ _ _ _ p _ _ _ _\n",
      "Attempts left: 2\n",
      "Guessed letters: p, r, a, h, i\n",
      "\n",
      "             -----\n",
      "             |   |\n",
      "             O   |\n",
      "            /|\\  |\n",
      "                 |\n",
      "                 |\n",
      "            \n"
     ]
    },
    {
     "name": "stdin",
     "output_type": "stream",
     "text": [
      "Guess a letter:  m\n"
     ]
    },
    {
     "name": "stdout",
     "output_type": "stream",
     "text": [
      "Good guess! 'm' is in the word.\n",
      "Word: _ _ _ _ _ _ p m _ _ _\n",
      "Attempts left: 2\n",
      "Guessed letters: p, r, a, h, i, m\n",
      "\n",
      "             -----\n",
      "             |   |\n",
      "             O   |\n",
      "            /|\\  |\n",
      "                 |\n",
      "                 |\n",
      "            \n"
     ]
    },
    {
     "name": "stdin",
     "output_type": "stream",
     "text": [
      "Guess a letter:  o\n"
     ]
    },
    {
     "name": "stdout",
     "output_type": "stream",
     "text": [
      "Good guess! 'o' is in the word.\n",
      "Word: _ _ _ _ _ o p m _ _ _\n",
      "Attempts left: 2\n",
      "Guessed letters: p, r, a, h, i, m, o\n",
      "\n",
      "             -----\n",
      "             |   |\n",
      "             O   |\n",
      "            /|\\  |\n",
      "                 |\n",
      "                 |\n",
      "            \n"
     ]
    },
    {
     "name": "stdin",
     "output_type": "stream",
     "text": [
      "Guess a letter:  e\n"
     ]
    },
    {
     "name": "stdout",
     "output_type": "stream",
     "text": [
      "Good guess! 'e' is in the word.\n",
      "Word: _ e _ e _ o p m e _ _\n",
      "Attempts left: 2\n",
      "Guessed letters: p, r, a, h, i, m, o, e\n",
      "\n",
      "             -----\n",
      "             |   |\n",
      "             O   |\n",
      "            /|\\  |\n",
      "                 |\n",
      "                 |\n",
      "            \n"
     ]
    },
    {
     "name": "stdin",
     "output_type": "stream",
     "text": [
      "Guess a letter:  v\n"
     ]
    },
    {
     "name": "stdout",
     "output_type": "stream",
     "text": [
      "Good guess! 'v' is in the word.\n",
      "Word: _ e v e _ o p m e _ _\n",
      "Attempts left: 2\n",
      "Guessed letters: p, r, a, h, i, m, o, e, v\n",
      "\n",
      "             -----\n",
      "             |   |\n",
      "             O   |\n",
      "            /|\\  |\n",
      "                 |\n",
      "                 |\n",
      "            \n"
     ]
    },
    {
     "name": "stdin",
     "output_type": "stream",
     "text": [
      "Guess a letter:  d\n"
     ]
    },
    {
     "name": "stdout",
     "output_type": "stream",
     "text": [
      "Good guess! 'd' is in the word.\n",
      "Word: d e v e _ o p m e _ _\n",
      "Attempts left: 2\n",
      "Guessed letters: p, r, a, h, i, m, o, e, v, d\n",
      "\n",
      "             -----\n",
      "             |   |\n",
      "             O   |\n",
      "            /|\\  |\n",
      "                 |\n",
      "                 |\n",
      "            \n"
     ]
    },
    {
     "name": "stdin",
     "output_type": "stream",
     "text": [
      "Guess a letter:  t\n"
     ]
    },
    {
     "name": "stdout",
     "output_type": "stream",
     "text": [
      "Good guess! 't' is in the word.\n",
      "Word: d e v e _ o p m e _ t\n",
      "Attempts left: 2\n",
      "Guessed letters: p, r, a, h, i, m, o, e, v, d, t\n",
      "\n",
      "             -----\n",
      "             |   |\n",
      "             O   |\n",
      "            /|\\  |\n",
      "                 |\n",
      "                 |\n",
      "            \n"
     ]
    },
    {
     "name": "stdin",
     "output_type": "stream",
     "text": [
      "Guess a letter:  s\n"
     ]
    },
    {
     "name": "stdout",
     "output_type": "stream",
     "text": [
      "Oops! 's' is not in the word.\n",
      "Word: d e v e _ o p m e _ t\n",
      "Attempts left: 1\n",
      "Guessed letters: p, r, a, h, i, m, o, e, v, d, t, s\n",
      "\n",
      "             -----\n",
      "             |   |\n",
      "             O   |\n",
      "            /|\\  |\n",
      "            /    |\n",
      "                 |\n",
      "            \n"
     ]
    },
    {
     "name": "stdin",
     "output_type": "stream",
     "text": [
      "Guess a letter:  k\n"
     ]
    },
    {
     "name": "stdout",
     "output_type": "stream",
     "text": [
      "Oops! 'k' is not in the word.\n",
      "Game Over! The word was: development\n"
     ]
    }
   ],
   "source": [
    "import random\n",
    "\n",
    "class Hangman:\n",
    "    def __init__(self):\n",
    "        self.words = ['python', 'java', 'hangman', 'development', 'computer']\n",
    "        self.guessed_letters = []\n",
    "        self.attempts_left = 6  \n",
    "        self.hangman_body = [\n",
    "            '''\n",
    "             -----\n",
    "             |   |\n",
    "                 |\n",
    "                 |\n",
    "                 |\n",
    "                 |\n",
    "            ''', \n",
    "            '''\n",
    "             -----\n",
    "             |   |\n",
    "             O   |\n",
    "                 |\n",
    "                 |\n",
    "                 |\n",
    "            ''', \n",
    "            '''\n",
    "             -----\n",
    "             |   |\n",
    "             O   |\n",
    "             |   |\n",
    "                 |\n",
    "                 |\n",
    "            ''', \n",
    "            '''\n",
    "             -----\n",
    "             |   |\n",
    "             O   |\n",
    "            /|   |\n",
    "                 |\n",
    "                 |\n",
    "            ''', \n",
    "            '''\n",
    "             -----\n",
    "             |   |\n",
    "             O   |\n",
    "            /|\\\\  |\n",
    "                 |\n",
    "                 |\n",
    "            ''', \n",
    "            '''\n",
    "             -----\n",
    "             |   |\n",
    "             O   |\n",
    "            /|\\\\  |\n",
    "            /    |\n",
    "                 |\n",
    "            ''', \n",
    "            '''\n",
    "             -----\n",
    "             |   |\n",
    "             O   |\n",
    "            /|\\\\  |\n",
    "            / \\\\  |\n",
    "                 |\n",
    "            '''\n",
    "        ]\n",
    "        self.word_to_guess = random.choice(self.words)  \n",
    "    \n",
    "    def print_board(self):\n",
    "        display_word = ''.join([letter if letter in self.guessed_letters else '_' for letter in self.word_to_guess])\n",
    "        print(f\"Word: {' '.join(display_word)}\")\n",
    "        print(f\"Attempts left: {self.attempts_left}\")\n",
    "        print(f\"Guessed letters: {', '.join(self.guessed_letters)}\")\n",
    "        print(self.hangman_body[6 - self.attempts_left]) \n",
    "    \n",
    "    def play(self):\n",
    "        print(\"Welcome to Hangman!\")\n",
    "        print(\"Try to guess the word letter by letter. You have 6 attempts.\")\n",
    "        \n",
    "        while self.attempts_left > 0:\n",
    "            self.print_board()\n",
    "            guess = input(\"Guess a letter: \").lower()\n",
    "            \n",
    "            if len(guess) != 1 or not guess.isalpha():\n",
    "                print(\"Please enter a valid single letter.\")\n",
    "                continue\n",
    "\n",
    "            if guess in self.guessed_letters:\n",
    "                print(f\"You've already guessed '{guess}'. Try a different letter.\")\n",
    "                continue\n",
    "\n",
    "            self.guessed_letters.append(guess)\n",
    "\n",
    "            if guess in self.word_to_guess:\n",
    "                print(f\"Good guess! '{guess}' is in the word.\")\n",
    "            else:\n",
    "                self.attempts_left -= 1\n",
    "                print(f\"Oops! '{guess}' is not in the word.\")\n",
    "            \n",
    "            if all(letter in self.guessed_letters for letter in self.word_to_guess):\n",
    "                self.print_board()\n",
    "                print(\"Congratulations, you've guessed the word!\")\n",
    "                break\n",
    "        else:\n",
    "            print(f\"Game Over! The word was: {self.word_to_guess}\")\n",
    "\n",
    "game = Hangman()\n",
    "game.play()\n"
   ]
  },
  {
   "cell_type": "code",
   "execution_count": null,
   "id": "4fe0b87a-bb89-4e45-9bac-9ed33ea81a84",
   "metadata": {},
   "outputs": [],
   "source": []
  }
 ],
 "metadata": {
  "kernelspec": {
   "display_name": "Python 3 (ipykernel)",
   "language": "python",
   "name": "python3"
  },
  "language_info": {
   "codemirror_mode": {
    "name": "ipython",
    "version": 3
   },
   "file_extension": ".py",
   "mimetype": "text/x-python",
   "name": "python",
   "nbconvert_exporter": "python",
   "pygments_lexer": "ipython3",
   "version": "3.11.7"
  }
 },
 "nbformat": 4,
 "nbformat_minor": 5
}
