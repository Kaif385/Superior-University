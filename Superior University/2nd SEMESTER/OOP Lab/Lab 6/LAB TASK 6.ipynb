{
 "cells": [
  {
   "cell_type": "code",
   "execution_count": 5,
   "id": "7eef0910-2b6d-48fe-8195-e037870dd560",
   "metadata": {},
   "outputs": [
    {
     "name": "stdin",
     "output_type": "stream",
     "text": [
      "Enter 'U' for Undergraduate or 'G' for Graduate:  u\n",
      "Enter the course code:  CS63\n",
      "Enter the course name:  CS\n",
      "Enter the academic level:  Freshman\n"
     ]
    },
    {
     "name": "stdout",
     "output_type": "stream",
     "text": [
      "Code: CS63\n",
      "Name: CS\n",
      "Level: Freshman\n"
     ]
    }
   ],
   "source": [
    "class Course:\n",
    "    def __init__(self, courseCode, courseName):\n",
    "        self.courseCode = courseCode\n",
    "        self.courseName = courseName\n",
    "\n",
    "    def displayInfo(self):\n",
    "        print(f\"Code: {self.courseCode}\\nName: {self.courseName}\")\n",
    "\n",
    "\n",
    "class UndergradCourse(Course):\n",
    "    def __init__(self, courseCode, courseName, yearLevel):\n",
    "        super().__init__(courseCode, courseName)\n",
    "        self.yearLevel = yearLevel\n",
    "\n",
    "    def additionalInfo(self):\n",
    "        print(f\"Level: {self.yearLevel}\")\n",
    "\n",
    "\n",
    "class GradCourse(Course):\n",
    "    def __init__(self, courseCode, courseName, researchField):\n",
    "        super().__init__(courseCode, courseName)\n",
    "        self.researchField = researchField\n",
    "\n",
    "    def additionalInfo(self):\n",
    "        print(f\"Field of Study: {self.researchField}\")\n",
    "\n",
    "\n",
    "def registerCourse():\n",
    "    courseType = input(\"Enter 'U' for Undergraduate or 'G' for Graduate: \").strip().upper()\n",
    "    code = input(\"Enter the course code: \")\n",
    "    name = input(\"Enter the course name: \")\n",
    "\n",
    "    if courseType == 'U':\n",
    "        level = input(\"Enter the academic level: \")\n",
    "        courseInstance = UndergradCourse(code, name, level)\n",
    "    elif courseType == 'G':\n",
    "        field = input(\"Enter the research field: \")\n",
    "        courseInstance = GradCourse(code, name, field)\n",
    "    else:\n",
    "        print(\"Invalid input. Please enter 'U' for Undergraduate or 'G' for Graduate.\")\n",
    "        return\n",
    "\n",
    "    courseInstance.displayInfo()\n",
    "    courseInstance.additionalInfo()\n",
    "\n",
    "registerCourse()"
   ]
  },
  {
   "cell_type": "code",
   "execution_count": null,
   "id": "d202405b-6ef5-4af0-a9f2-6273dcde6ed2",
   "metadata": {},
   "outputs": [],
   "source": []
  }
 ],
 "metadata": {
  "kernelspec": {
   "display_name": "Python 3 (ipykernel)",
   "language": "python",
   "name": "python3"
  },
  "language_info": {
   "codemirror_mode": {
    "name": "ipython",
    "version": 3
   },
   "file_extension": ".py",
   "mimetype": "text/x-python",
   "name": "python",
   "nbconvert_exporter": "python",
   "pygments_lexer": "ipython3",
   "version": "3.11.7"
  }
 },
 "nbformat": 4,
 "nbformat_minor": 5
}
