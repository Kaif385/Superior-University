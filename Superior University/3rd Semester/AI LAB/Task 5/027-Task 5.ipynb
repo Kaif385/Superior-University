{
 "cells": [
  {
   "cell_type": "markdown",
   "id": "a1193462-f6ba-43fa-98ce-b124035c0281",
   "metadata": {},
   "source": [
    "# 1"
   ]
  },
  {
   "cell_type": "code",
   "execution_count": 1,
   "id": "2a6fd02b-603c-4604-be1b-c1229dd8d87e",
   "metadata": {},
   "outputs": [
    {
     "name": "stdout",
     "output_type": "stream",
     "text": [
      "Depth First Search: \n",
      "Goal 2 found!\n",
      "Visited nodes: ['5', '3', '2']\n"
     ]
    }
   ],
   "source": [
    "graph = {\n",
    "    \"5\" : [\"3\", \"7\"],\n",
    "    \"3\" : [\"2\", \"4\"],\n",
    "    \"7\" : [\"8\"],\n",
    "    \"2\" : [],\n",
    "    \"4\" : [],\n",
    "    \"8\" : []\n",
    "}\n",
    "\n",
    "visited = []\n",
    "\n",
    "def dfs(graph, node, goal):\n",
    "    if node not in visited:\n",
    "        visited.append(node)  \n",
    "        if node == goal:\n",
    "            print(f\"Goal {goal} found!\")\n",
    "            return True\n",
    "        \n",
    "        for neighbor in graph[node]:\n",
    "            if dfs(graph, neighbor, goal):  \n",
    "                return True\n",
    "            \n",
    "    return False\n",
    "\n",
    "print(\"Depth First Search: \")\n",
    "found = dfs(graph, \"5\", \"2\")\n",
    "\n",
    "if not found:\n",
    "    print(\"Goal not found\")\n",
    "    \n",
    "print(\"Visited nodes:\", visited)"
   ]
  },
  {
   "cell_type": "markdown",
   "id": "1c3474a0-2695-4225-862a-b019d6570086",
   "metadata": {},
   "source": [
    "# 2"
   ]
  },
  {
   "cell_type": "code",
   "execution_count": 2,
   "id": "d2a48b8f-85b0-41dd-8dd6-2cd28d794a20",
   "metadata": {},
   "outputs": [],
   "source": [
    "class Node:\n",
    "    def __init__(self, value):\n",
    "        self.value = value \n",
    "        self.left = None   \n",
    "        self.right = None \n",
    "def preorder(root):\n",
    "    if root:\n",
    "        print(root.value, end=\" \")  \n",
    "        preorder(root.left)        \n",
    "        preorder(root.right)      \n",
    "\n",
    "def inorder(root):\n",
    "    if root:\n",
    "        inorder(root.left)        \n",
    "        print(root.value, end=\" \")  \n",
    "        inorder(root.right)       \n",
    "\n",
    "def postorder(root):\n",
    "    if root:\n",
    "        postorder(root.left)       \n",
    "        postorder(root.right)\n",
    "        print(root.value, end=\" \") "
   ]
  },
  {
   "cell_type": "code",
   "execution_count": 3,
   "id": "5fc8cb3b-3d0e-4fff-86e3-88bf9d10bf53",
   "metadata": {},
   "outputs": [
    {
     "name": "stdout",
     "output_type": "stream",
     "text": [
      "Preorder Traversal:\n",
      "A B D E C F G \n",
      "Inorder Traversal:\n",
      "D B E A F C G \n",
      "Postorder Traversal:\n",
      "D E B F G C A "
     ]
    }
   ],
   "source": [
    "root = Node(\"A\")\n",
    "root.left = Node(\"B\")\n",
    "root.right = Node(\"C\")\n",
    "root.left.left = Node(\"D\")\n",
    "root.left.right = Node(\"E\")\n",
    "root.right.right = Node(\"G\")\n",
    "root.right.left = Node(\"F\")\n",
    "\n",
    "print(\"Preorder Traversal:\")\n",
    "preorder(root)  \n",
    "print(\"\\nInorder Traversal:\")\n",
    "inorder(root)  \n",
    "print(\"\\nPostorder Traversal:\")\n",
    "postorder(root)"
   ]
  },
  {
   "cell_type": "code",
   "execution_count": null,
   "id": "598a2855-9e80-4967-a079-64f279e0db48",
   "metadata": {},
   "outputs": [],
   "source": []
  }
 ],
 "metadata": {
  "kernelspec": {
   "display_name": "Python 3 (ipykernel)",
   "language": "python",
   "name": "python3"
  },
  "language_info": {
   "codemirror_mode": {
    "name": "ipython",
    "version": 3
   },
   "file_extension": ".py",
   "mimetype": "text/x-python",
   "name": "python",
   "nbconvert_exporter": "python",
   "pygments_lexer": "ipython3",
   "version": "3.11.7"
  }
 },
 "nbformat": 4,
 "nbformat_minor": 5
}
