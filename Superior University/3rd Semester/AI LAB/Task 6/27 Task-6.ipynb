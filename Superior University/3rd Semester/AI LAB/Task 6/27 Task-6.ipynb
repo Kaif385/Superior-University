{
 "cells": [
  {
   "cell_type": "markdown",
   "id": "4eca2172-d7c2-4d40-8d61-65b2924daaf8",
   "metadata": {},
   "source": [
    "# 1"
   ]
  },
  {
   "cell_type": "code",
   "execution_count": 1,
   "id": "a4d6e111-8654-4c37-814c-0720e0829da6",
   "metadata": {},
   "outputs": [
    {
     "name": "stdout",
     "output_type": "stream",
     "text": [
      "Breadth First Search: \n",
      "['5', '3', '7', '2', '4', '8']\n"
     ]
    }
   ],
   "source": [
    "graph = {\n",
    "    \"5\": [\"3\", \"7\"],\n",
    "    \"3\": [\"2\", \"4\"],\n",
    "    \"7\": [\"8\"],\n",
    "    \"2\": [],\n",
    "    \"4\": [],\n",
    "    \"8\": []\n",
    "}\n",
    "\n",
    "visited = []\n",
    "\n",
    "def bfs(graph, start):\n",
    "    visited.append(start)\n",
    "    to_visit = [start]\n",
    "    while to_visit:\n",
    "        current = to_visit.pop(0) \n",
    "        for neighbor in graph[current]:\n",
    "            if neighbor not in visited:  \n",
    "                visited.append(neighbor)  \n",
    "                to_visit.append(neighbor) \n",
    "\n",
    "print(\"Breadth First Search: \")\n",
    "bfs(graph, \"5\") \n",
    "print(visited)"
   ]
  },
  {
   "cell_type": "markdown",
   "id": "2ad7c740-2270-469a-9940-4944893e880e",
   "metadata": {},
   "source": [
    "# 2"
   ]
  },
  {
   "cell_type": "code",
   "execution_count": 2,
   "id": "020f2fe0-0819-4c3e-9e59-24722d0cc507",
   "metadata": {},
   "outputs": [
    {
     "name": "stdout",
     "output_type": "stream",
     "text": [
      "Breadth First Search: \n",
      "['5', '3', '2']\n"
     ]
    }
   ],
   "source": [
    "graph = {\n",
    "    \"5\": [\"3\", \"7\"],\n",
    "    \"3\": [\"2\", \"4\"],\n",
    "    \"7\": [\"8\"],\n",
    "    \"2\": [],\n",
    "    \"4\": [],\n",
    "    \"8\": []\n",
    "}\n",
    "\n",
    "visited = []\n",
    "\n",
    "def bfs(graph, start, goal):\n",
    "    queue = [(start, [start])] \n",
    "    while queue:\n",
    "        node, path = queue.pop(0) \n",
    "        \n",
    "        if node == goal:\n",
    "            return path \n",
    "        \n",
    "        for neighbor in graph[node]:\n",
    "            if neighbor not in visited:\n",
    "                visited.append(neighbor)\n",
    "                queue.append((neighbor, path + [neighbor])) \n",
    "    return None \n",
    "\n",
    "print(\"Breadth First Search: \")\n",
    "path = bfs(graph, \"5\", \"2\")\n",
    "print(path)"
   ]
  },
  {
   "cell_type": "code",
   "execution_count": null,
   "id": "b38f03c2-4019-4a02-8206-da9eef3e1d43",
   "metadata": {},
   "outputs": [],
   "source": []
  }
 ],
 "metadata": {
  "kernelspec": {
   "display_name": "Python 3 (ipykernel)",
   "language": "python",
   "name": "python3"
  },
  "language_info": {
   "codemirror_mode": {
    "name": "ipython",
    "version": 3
   },
   "file_extension": ".py",
   "mimetype": "text/x-python",
   "name": "python",
   "nbconvert_exporter": "python",
   "pygments_lexer": "ipython3",
   "version": "3.11.7"
  }
 },
 "nbformat": 4,
 "nbformat_minor": 5
}
