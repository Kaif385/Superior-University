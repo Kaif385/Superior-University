{
 "cells": [
  {
   "cell_type": "markdown",
   "id": "8e2f1b4c-4602-49c8-b195-6fd6a21316b5",
   "metadata": {},
   "source": [
    "# Mini Project 1"
   ]
  },
  {
   "cell_type": "code",
   "execution_count": 1,
   "id": "d51d4671-9579-4383-80bb-09c9314c1d27",
   "metadata": {},
   "outputs": [
    {
     "name": "stdout",
     "output_type": "stream",
     "text": [
      "Welcome to Fizz Buzz.\n",
      "Choose how many rounds you want to play.\n"
     ]
    },
    {
     "name": "stdin",
     "output_type": "stream",
     "text": [
      "Enter Rounds:  2\n"
     ]
    },
    {
     "name": "stdout",
     "output_type": "stream",
     "text": [
      "Rules:\n",
      "\t 1. If the number is divisible by 3, Print Fizz.\n",
      "\t 2. If the number is divisible by 5, Print Buzz.\n",
      "\t 3. If the number is divisible by both 3 and 5, Print FizzBuzz.\n",
      "\t 4. If the number is not divisible by 3 or 5, Print Number.\n",
      "\n",
      "Round 1: Number is 39\n",
      "Fizz\n",
      "Round 2: Number is 9\n",
      "Fizz\n",
      "Game Over. Thanks for playing!\n"
     ]
    }
   ],
   "source": [
    "import random\n",
    "\n",
    "def Fizz_Buzz():\n",
    "    print(\"Welcome to Fizz Buzz.\")\n",
    "    print(\"Choose how many rounds you want to play.\")\n",
    "    \n",
    "    while True:\n",
    "        rounds = int(input(\"Enter Rounds: \"))\n",
    "        if rounds <= 0:\n",
    "            print(\"Please enter a positive number.\")\n",
    "        else:\n",
    "            break\n",
    "\n",
    "    \n",
    "    print(\"Rules:\")\n",
    "    print(\"\\t 1. If the number is divisible by 3, Print Fizz.\")\n",
    "    print(\"\\t 2. If the number is divisible by 5, Print Buzz.\")\n",
    "    print(\"\\t 3. If the number is divisible by both 3 and 5, Print FizzBuzz.\")\n",
    "    print(\"\\t 4. If the number is not divisible by 3 or 5, Print Number.\\n\")\n",
    "    \n",
    "    times = 1\n",
    "    \n",
    "    while times <= rounds:\n",
    "        a1 = random.randint(3, 40)  \n",
    "        print(f\"Round {times}: Number is {a1}\")\n",
    "\n",
    "        if a1 % 3 == 0 and a1 % 5 == 0:\n",
    "            print(\"FizzBuzz\")\n",
    "        elif a1 % 3 == 0:\n",
    "            print(\"Fizz\")\n",
    "        elif a1 % 5 == 0:\n",
    "            print(\"Buzz\")\n",
    "        else:\n",
    "            print(a1)\n",
    "\n",
    "        times += 1\n",
    "\n",
    "    print(\"Game Over. Thanks for playing!\")\n",
    "\n",
    "Fizz_Buzz()"
   ]
  },
  {
   "cell_type": "markdown",
   "id": "850243b8-5a14-460b-8288-ad54a2241f17",
   "metadata": {},
   "source": [
    "# Mini Project 2"
   ]
  },
  {
   "cell_type": "code",
   "execution_count": 2,
   "id": "b5b39d54-f02e-45c6-9c57-a87e4952e616",
   "metadata": {},
   "outputs": [
    {
     "name": "stdin",
     "output_type": "stream",
     "text": [
      "Do you want to add movies to the list? (yes/no):  no\n"
     ]
    },
    {
     "name": "stdout",
     "output_type": "stream",
     "text": [
      "The average budget of all movies is: $190,500,000.00\n",
      "\n",
      "Movies with budgets higher than the average:\n",
      "Pirates of the Caribbean: On Stranger Tides is a high budget movie\n",
      "Avengers: Age of Ultron is a high budget movie\n",
      "Avengers: Endgame is a high budget movie\n",
      "Incredibles 2 is a high budget movie\n",
      "\n",
      "Total number of movies with a budget higher than the average: 4\n"
     ]
    }
   ],
   "source": [
    "class MovieDatabase:\n",
    "    def __init__(self):\n",
    "        self.movies = [\n",
    "            (\"Eternal Sunshine of the Spotless Mind\", 20000000),\n",
    "            (\"Memento\", 9000000),\n",
    "            (\"Requiem for a Dream\", 4500000),\n",
    "            (\"Pirates of the Caribbean: On Stranger Tides\", 379000000),\n",
    "            (\"Avengers: Age of Ultron\", 365000000),\n",
    "            (\"Avengers: Endgame\", 356000000),\n",
    "            (\"Incredibles 2\", 200000000)\n",
    "        ]\n",
    "    \n",
    "    def calculate_average_budget(self):\n",
    "        total_budget = 0\n",
    "        for movie in self.movies:\n",
    "            total_budget += movie[1]\n",
    "        \n",
    "        average_budget = total_budget / len(self.movies)\n",
    "        return average_budget\n",
    "\n",
    "    def find_high_budget_movies(self, average_budget):\n",
    "        high_budget_movies = []\n",
    "        for movie in self.movies:\n",
    "            if movie[1] > average_budget:\n",
    "                high_budget_movies.append(movie)\n",
    "        return high_budget_movies\n",
    "    \n",
    "    def add_movies(self):\n",
    "        num_movies = int(input(\"How many movies would you like to add? \"))\n",
    "        for _ in range(num_movies):\n",
    "            name = input(\"Enter the movie name: \")\n",
    "            budget = int(input(f\"Enter the budget for '{name}': \"))\n",
    "            self.movies.append((name, budget))\n",
    "        print(f\"{num_movies} movies added!\")\n",
    "\n",
    "    def display_results(self):\n",
    "        average_budget = self.calculate_average_budget()\n",
    "        print(f\"The average budget of all movies is: ${average_budget:,.2f}\")\n",
    "\n",
    "        high_budget_movies = self.find_high_budget_movies(average_budget)\n",
    "        print(\"\\nMovies with budgets higher than the average:\")\n",
    "        for movie in high_budget_movies:\n",
    "            print(f\"{movie[0]} is a high budget movie\")\n",
    "\n",
    "        print(f\"\\nTotal number of movies with a budget higher than the average: {len(high_budget_movies)}\")\n",
    "\n",
    "movie_obj = MovieDatabase()\n",
    "\n",
    "add_movies_choice = input(\"Do you want to add movies to the list? (yes/no): \").lower()\n",
    "if add_movies_choice == 'yes':\n",
    "    movie_obj.add_movies()\n",
    "    \n",
    "movie_obj.display_results()"
   ]
  },
  {
   "cell_type": "code",
   "execution_count": null,
   "id": "ab6939e5-8182-4471-a7d8-7a9d0a3d3109",
   "metadata": {},
   "outputs": [],
   "source": []
  }
 ],
 "metadata": {
  "kernelspec": {
   "display_name": "Python 3 (ipykernel)",
   "language": "python",
   "name": "python3"
  },
  "language_info": {
   "codemirror_mode": {
    "name": "ipython",
    "version": 3
   },
   "file_extension": ".py",
   "mimetype": "text/x-python",
   "name": "python",
   "nbconvert_exporter": "python",
   "pygments_lexer": "ipython3",
   "version": "3.11.7"
  }
 },
 "nbformat": 4,
 "nbformat_minor": 5
}
