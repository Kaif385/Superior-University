{
 "cells": [
  {
   "cell_type": "code",
   "execution_count": 1,
   "id": "bcd16177-dbc2-4ec6-b006-dfa2d76b6ff7",
   "metadata": {},
   "outputs": [
    {
     "name": "stdout",
     "output_type": "stream",
     "text": [
      "Room: livingroom -- Heater Off\n",
      "Room: drawingroom -- Heater On\n",
      "Room: bedroom -- Heater Off\n",
      "Room: bathroom -- Heater On\n"
     ]
    }
   ],
   "source": [
    "class TempControl:\n",
    "    def __init__(self, temp):\n",
    "        self.Desired_Temperature = temp\n",
    "        self.previous_action = None \n",
    "\n",
    "    def perceive(self):\n",
    "        print(f\"Desired Temperature: {self.Desired_Temperature}\")\n",
    "\n",
    "    def act(self, current_temp, room):\n",
    "        print(f\"Room: {room}\", end=\" -- \")\n",
    "\n",
    "        if current_temp > self.Desired_Temperature:\n",
    "            if self.previous_action != \"Heater On\":\n",
    "                print(\"Heater On\")\n",
    "                self.previous_action = \"Heater On\"\n",
    "            else:\n",
    "                print(\"Heater already On\")\n",
    "        else:\n",
    "            if self.previous_action != \"Heater Off\":\n",
    "                print(\"Heater Off\")\n",
    "                self.previous_action = \"Heater Off\"\n",
    "            else:\n",
    "                print(\"Heater already Off\")\n",
    "\n",
    "rooms = {\n",
    "    \"livingroom\": 18,\n",
    "    \"drawingroom\": 22,\n",
    "    \"bedroom\": 15,\n",
    "    \"bathroom\": 24\n",
    "}\n",
    "\n",
    "desired_temp = 20 \n",
    "agent = TempControl(desired_temp)\n",
    "\n",
    "for room, temp in rooms.items():\n",
    "    agent.act(temp, room)"
   ]
  },
  {
   "cell_type": "code",
   "execution_count": null,
   "id": "3132ec5e-9066-4fa7-bbf1-7d61aa348cf1",
   "metadata": {},
   "outputs": [],
   "source": []
  }
 ],
 "metadata": {
  "kernelspec": {
   "display_name": "Python 3 (ipykernel)",
   "language": "python",
   "name": "python3"
  },
  "language_info": {
   "codemirror_mode": {
    "name": "ipython",
    "version": 3
   },
   "file_extension": ".py",
   "mimetype": "text/x-python",
   "name": "python",
   "nbconvert_exporter": "python",
   "pygments_lexer": "ipython3",
   "version": "3.11.7"
  }
 },
 "nbformat": 4,
 "nbformat_minor": 5
}
