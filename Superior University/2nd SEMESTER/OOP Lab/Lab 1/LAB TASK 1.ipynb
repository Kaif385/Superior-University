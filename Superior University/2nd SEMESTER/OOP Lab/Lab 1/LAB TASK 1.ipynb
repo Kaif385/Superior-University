{
 "cells": [
  {
   "cell_type": "markdown",
   "id": "138c242d-cc5a-431b-af93-8f2d2588965d",
   "metadata": {},
   "source": [
    "# OOP LAB 1"
   ]
  },
  {
   "cell_type": "markdown",
   "id": "41288664-e0c0-45e6-b63c-4a222606626a",
   "metadata": {},
   "source": [
    "## TASK 1"
   ]
  },
  {
   "cell_type": "code",
   "execution_count": 1,
   "id": "66fe23c4-0ef6-4388-9881-4146e2cb2a01",
   "metadata": {},
   "outputs": [],
   "source": [
    "def is_prime(number):\n",
    "    if number < 2:\n",
    "        Prime = False\n",
    "    else:\n",
    "        Prime = True\n",
    "        for i in range(2,number):\n",
    "            if number % i == 0:\n",
    "                Prime = False\n",
    "                break\n",
    "\n",
    "    if Prime == True:\n",
    "        return \"It is a Prime Number\"\n",
    "    else:\n",
    "        return \"It is not a Prime Number\""
   ]
  },
  {
   "cell_type": "code",
   "execution_count": 2,
   "id": "ecd7749a-7ecd-42dc-b7f8-f17be995bc28",
   "metadata": {},
   "outputs": [
    {
     "name": "stdin",
     "output_type": "stream",
     "text": [
      " yes\n",
      "Enter a number:  11\n"
     ]
    },
    {
     "name": "stdout",
     "output_type": "stream",
     "text": [
      "It is a Prime Number\n"
     ]
    },
    {
     "name": "stdin",
     "output_type": "stream",
     "text": [
      " yes\n",
      "Enter a number:  12\n"
     ]
    },
    {
     "name": "stdout",
     "output_type": "stream",
     "text": [
      "It is not a Prime Number\n"
     ]
    },
    {
     "name": "stdin",
     "output_type": "stream",
     "text": [
      " No\n"
     ]
    }
   ],
   "source": [
    "while True:\n",
    "    user_input = input()\n",
    "    if user_input != \"yes\":\n",
    "        break\n",
    "    number = int(input(\"Enter a number: \"))\n",
    "    result = is_prime(number)\n",
    "    print(result)"
   ]
  },
  {
   "cell_type": "code",
   "execution_count": null,
   "id": "71dedb45-2add-4cf1-b5ca-7588ef4999aa",
   "metadata": {},
   "outputs": [],
   "source": []
  }
 ],
 "metadata": {
  "kernelspec": {
   "display_name": "Python 3 (ipykernel)",
   "language": "python",
   "name": "python3"
  },
  "language_info": {
   "codemirror_mode": {
    "name": "ipython",
    "version": 3
   },
   "file_extension": ".py",
   "mimetype": "text/x-python",
   "name": "python",
   "nbconvert_exporter": "python",
   "pygments_lexer": "ipython3",
   "version": "3.11.7"
  }
 },
 "nbformat": 4,
 "nbformat_minor": 5
}
