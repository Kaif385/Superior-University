{
 "cells": [
  {
   "cell_type": "code",
   "execution_count": 1,
   "id": "ae438cd1-029b-4ff0-9223-cc824e37200d",
   "metadata": {},
   "outputs": [
    {
     "name": "stdin",
     "output_type": "stream",
     "text": [
      "Enter Width:  32\n",
      "Enter Height:  24\n"
     ]
    },
    {
     "name": "stdout",
     "output_type": "stream",
     "text": [
      "Rectangle: 32.0 * 24.0\n",
      "Area of the rectangle: 768.0\n",
      "Perimeter of the rectangle: 112.0\n"
     ]
    }
   ],
   "source": [
    "class Rectangle:\n",
    "    def __init__(self, width, height):\n",
    "        self.width = width\n",
    "        self.height = height\n",
    "\n",
    "    def __str__(self):\n",
    "        return f\"Rectangle: {self.width} * {self.height}\"\n",
    "\n",
    "    def area(self):\n",
    "        return self.width * self.height\n",
    "\n",
    "    def perimeter(self):\n",
    "        return 2 * (self.width + self.height)\n",
    "\n",
    "\n",
    "width = float(input(\"Enter Width: \"))\n",
    "height = float(input(\"Enter Height: \"))\n",
    "\n",
    "rectangle = Rectangle(width, height)\n",
    "print(rectangle)\n",
    "\n",
    "print(\"Area of the rectangle:\", rectangle.area())\n",
    "print(\"Perimeter of the rectangle:\", rectangle.perimeter())\n"
   ]
  },
  {
   "cell_type": "code",
   "execution_count": null,
   "id": "731e68e1-9333-4e98-9935-c21a6a240f5a",
   "metadata": {},
   "outputs": [],
   "source": []
  }
 ],
 "metadata": {
  "kernelspec": {
   "display_name": "Python 3 (ipykernel)",
   "language": "python",
   "name": "python3"
  },
  "language_info": {
   "codemirror_mode": {
    "name": "ipython",
    "version": 3
   },
   "file_extension": ".py",
   "mimetype": "text/x-python",
   "name": "python",
   "nbconvert_exporter": "python",
   "pygments_lexer": "ipython3",
   "version": "3.11.7"
  }
 },
 "nbformat": 4,
 "nbformat_minor": 5
}
