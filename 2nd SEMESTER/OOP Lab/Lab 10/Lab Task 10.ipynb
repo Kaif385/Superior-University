{
 "cells": [
  {
   "cell_type": "code",
   "execution_count": 3,
   "id": "f45057f0-48f0-4fa6-a11b-5edae46c1f63",
   "metadata": {},
   "outputs": [
    {
     "name": "stdout",
     "output_type": "stream",
     "text": [
      "\n",
      "Employee Management System\n",
      "1. Add Employee\n",
      "2. Display All Employees\n",
      "3. Update Employee\n",
      "4. Delete Employee\n",
      "5. Exit\n"
     ]
    },
    {
     "name": "stdin",
     "output_type": "stream",
     "text": [
      "Enter your choice:  Kaif\n"
     ]
    },
    {
     "name": "stdout",
     "output_type": "stream",
     "text": [
      "Invalid choice. Please try again.\n",
      "\n",
      "Employee Management System\n",
      "1. Add Employee\n",
      "2. Display All Employees\n",
      "3. Update Employee\n",
      "4. Delete Employee\n",
      "5. Exit\n"
     ]
    },
    {
     "name": "stdin",
     "output_type": "stream",
     "text": [
      "Enter your choice:  1\n",
      "Enter Employee Type (Manager/Worker):  Manager\n",
      "Enter Name:  Kaif\n",
      "Enter Age:  20\n",
      "Enter Salary:  20000\n",
      "Enter Department:  IT\n"
     ]
    },
    {
     "name": "stdout",
     "output_type": "stream",
     "text": [
      "\n",
      "Employee Management System\n",
      "1. Add Employee\n",
      "2. Display All Employees\n",
      "3. Update Employee\n",
      "4. Delete Employee\n",
      "5. Exit\n"
     ]
    },
    {
     "name": "stdin",
     "output_type": "stream",
     "text": [
      "Enter your choice:  2\n"
     ]
    },
    {
     "name": "stdout",
     "output_type": "stream",
     "text": [
      "['Kaif', '20', '70000.0', 'IT', 'N/A']\n",
      "['Kaif', '20', '20000.0', 'IT', 'N/A']\n",
      "\n",
      "Employee Management System\n",
      "1. Add Employee\n",
      "2. Display All Employees\n",
      "3. Update Employee\n",
      "4. Delete Employee\n",
      "5. Exit\n"
     ]
    },
    {
     "name": "stdin",
     "output_type": "stream",
     "text": [
      "Enter your choice:  5\n"
     ]
    },
    {
     "name": "stdout",
     "output_type": "stream",
     "text": [
      "Exiting system...\n"
     ]
    }
   ],
   "source": [
    "import csv\n",
    "\n",
    "class Employee:\n",
    "    def __init__(self, name, age, salary):\n",
    "        self.__name = name\n",
    "        self.__age = age\n",
    "        self.__salary = salary\n",
    "\n",
    "    def get_name(self):\n",
    "        return self.__name\n",
    "\n",
    "    def set_name(self, name):\n",
    "        self.__name = name\n",
    "\n",
    "    def get_age(self):\n",
    "        return self.__age\n",
    "\n",
    "    def set_age(self, age):\n",
    "        self.__age = age\n",
    "\n",
    "    def get_salary(self):\n",
    "        return self.__salary\n",
    "\n",
    "    def set_salary(self, salary):\n",
    "        self.__salary = salary\n",
    "\n",
    "class Manager(Employee):\n",
    "    def __init__(self, name, age, salary, department):\n",
    "        super().__init__(name, age, salary)\n",
    "        self.__department = department\n",
    "\n",
    "    def get_department(self):\n",
    "        return self.__department\n",
    "\n",
    "    def set_department(self, department):\n",
    "        self.__department = department\n",
    "\n",
    "class Worker(Employee):\n",
    "    def __init__(self, name, age, salary, hours_worked):\n",
    "        super().__init__(name, age, salary)\n",
    "        self.__hours_worked = hours_worked\n",
    "\n",
    "    def get_hours_worked(self):\n",
    "        return self.__hours_worked\n",
    "\n",
    "    def set_hours_worked(self, hours_worked):\n",
    "        self.__hours_worked = hours_worked\n",
    "\n",
    "def add_employee(employee, filename=\"employees.csv\"):\n",
    "    with open(filename, mode='a', newline='') as file:\n",
    "        writer = csv.writer(file)\n",
    "        if isinstance(employee, Manager):\n",
    "            writer.writerow([employee.get_name(), employee.get_age(), employee.get_salary(), employee.get_department(), \"N/A\"])\n",
    "        elif isinstance(employee, Worker):\n",
    "            writer.writerow([employee.get_name(), employee.get_age(), employee.get_salary(), \"N/A\", employee.get_hours_worked()])\n",
    "\n",
    "def display_employees(filename=\"employees.csv\"):\n",
    "    with open(filename, mode='r') as file:\n",
    "        reader = csv.reader(file)\n",
    "        for row in reader:\n",
    "            print(row)\n",
    "\n",
    "def update_employee(name, new_data, filename=\"employees.csv\"):\n",
    "    rows = []\n",
    "    with open(filename, mode='r') as file:\n",
    "        reader = csv.reader(file)\n",
    "        rows = list(reader)\n",
    "\n",
    "    with open(filename, mode='w', newline='') as file:\n",
    "        writer = csv.writer(file)\n",
    "        for row in rows:\n",
    "            if row[0] == name:\n",
    "                writer.writerow(new_data)\n",
    "            else:\n",
    "                writer.writerow(row)\n",
    "\n",
    "def delete_employee(name, filename=\"employees.csv\"):\n",
    "    rows = []\n",
    "    with open(filename, mode='r') as file:\n",
    "        reader = csv.reader(file)\n",
    "        rows = list(reader)\n",
    "\n",
    "    with open(filename, mode='w', newline='') as file:\n",
    "        writer = csv.writer(file)\n",
    "        for row in rows:\n",
    "            if row[0] != name:\n",
    "                writer.writerow(row)\n",
    "\n",
    "def menu():\n",
    "    while True:\n",
    "        print(\"\\nEmployee Management System\")\n",
    "        print(\"1. Add Employee\")\n",
    "        print(\"2. Display All Employees\")\n",
    "        print(\"3. Update Employee\")\n",
    "        print(\"4. Delete Employee\")\n",
    "        print(\"5. Exit\")\n",
    "        choice = input(\"Enter your choice: \")\n",
    "\n",
    "        if choice == '1':\n",
    "            emp_type = input(\"Enter Employee Type (Manager/Worker): \").strip().lower()\n",
    "            name = input(\"Enter Name: \")\n",
    "            age = int(input(\"Enter Age: \"))\n",
    "            salary = float(input(\"Enter Salary: \"))\n",
    "\n",
    "            if emp_type == \"manager\":\n",
    "                department = input(\"Enter Department: \")\n",
    "                manager = Manager(name, age, salary, department)\n",
    "                add_employee(manager)\n",
    "            elif emp_type == \"worker\":\n",
    "                hours_worked = int(input(\"Enter Hours Worked: \"))\n",
    "                worker = Worker(name, age, salary, hours_worked)\n",
    "                add_employee(worker)\n",
    "            else:\n",
    "                print(\"Invalid employee type.\")\n",
    "\n",
    "        elif choice == '2':\n",
    "            display_employees()\n",
    "\n",
    "        elif choice == '3':\n",
    "            name = input(\"Enter employee name to update: \")\n",
    "            new_data = []\n",
    "            new_data.append(input(\"Enter new Name: \"))\n",
    "            new_data.append(int(input(\"Enter new Age: \")))\n",
    "            new_data.append(float(input(\"Enter new Salary: \")))\n",
    "            new_data.append(input(\"Enter new Department or N/A: \"))\n",
    "            update_employee(name, new_data)\n",
    "\n",
    "        elif choice == '4':\n",
    "            name = input(\"Enter employee name to delete: \")\n",
    "            delete_employee(name)\n",
    "\n",
    "        elif choice == '5':\n",
    "            print(\"Exiting system...\")\n",
    "            break\n",
    "\n",
    "        else:\n",
    "            print(\"Invalid choice. Please try again.\")\n",
    "\n",
    "if __name__ == \"__main__\":\n",
    "    menu()"
   ]
  },
  {
   "cell_type": "code",
   "execution_count": null,
   "id": "44c4d1b5-73a4-4777-b5ad-c4344dadc2ed",
   "metadata": {},
   "outputs": [],
   "source": []
  }
 ],
 "metadata": {
  "kernelspec": {
   "display_name": "Python 3 (ipykernel)",
   "language": "python",
   "name": "python3"
  },
  "language_info": {
   "codemirror_mode": {
    "name": "ipython",
    "version": 3
   },
   "file_extension": ".py",
   "mimetype": "text/x-python",
   "name": "python",
   "nbconvert_exporter": "python",
   "pygments_lexer": "ipython3",
   "version": "3.11.7"
  }
 },
 "nbformat": 4,
 "nbformat_minor": 5
}
