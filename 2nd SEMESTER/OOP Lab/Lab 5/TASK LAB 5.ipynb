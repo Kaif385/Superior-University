{
 "cells": [
  {
   "cell_type": "code",
   "execution_count": 1,
   "id": "56340882-9bcd-4b37-8b7b-7b7008d8000e",
   "metadata": {},
   "outputs": [
    {
     "name": "stdout",
     "output_type": "stream",
     "text": [
      "Book Information:\n",
      "Title: The God of Small Things, Author: Arundhati Roy\n",
      "Pages: 338\n",
      "\n",
      "Magazine Information:\n",
      "Title: National Geographic, Author: Various Contributors\n",
      "Issue Number: 8\n"
     ]
    }
   ],
   "source": [
    "class Item:\n",
    "    def __init__(self, title, author):\n",
    "        self.title = title\n",
    "        self.author = author\n",
    "\n",
    "    def display_info(self):\n",
    "        print(f\"Title: {self.title}, Author: {self.author}\")\n",
    "\n",
    "\n",
    "class book(Item):\n",
    "    def __init__(self, title, author, pages):\n",
    "        super().__init__(title, author)\n",
    "        self.pages = pages\n",
    "\n",
    "    def additional_info(self):\n",
    "        print(f\"Pages: {self.pages}\")\n",
    "\n",
    "\n",
    "class magazine(Item):\n",
    "    def __init__(self, title, author, issue_number):\n",
    "        super().__init__(title, author)\n",
    "        self.issue_number = issue_number\n",
    "\n",
    "    def additional_info(self):\n",
    "        print(f\"Issue Number: {self.issue_number}\")\n",
    "\n",
    "\n",
    "Book = book(\"The God of Small Things\", \"Arundhati Roy\", 338)\n",
    "Magazine = magazine(\"National Geographic\", \"Various Contributors\", 8)\n",
    "\n",
    "\n",
    "print(\"Book Information:\")\n",
    "Book.display_info()\n",
    "Book.additional_info()\n",
    "\n",
    "\n",
    "print(\"\\nMagazine Information:\")\n",
    "Magazine.display_info()\n",
    "Magazine.additional_info()"
   ]
  },
  {
   "cell_type": "code",
   "execution_count": null,
   "id": "b73769aa-4e7a-4ff8-8bb5-2024fbf82020",
   "metadata": {},
   "outputs": [],
   "source": []
  }
 ],
 "metadata": {
  "kernelspec": {
   "display_name": "Python 3 (ipykernel)",
   "language": "python",
   "name": "python3"
  },
  "language_info": {
   "codemirror_mode": {
    "name": "ipython",
    "version": 3
   },
   "file_extension": ".py",
   "mimetype": "text/x-python",
   "name": "python",
   "nbconvert_exporter": "python",
   "pygments_lexer": "ipython3",
   "version": "3.11.7"
  }
 },
 "nbformat": 4,
 "nbformat_minor": 5
}
