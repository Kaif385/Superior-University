{
 "cells": [
  {
   "cell_type": "markdown",
   "id": "e7c4a59c-190b-4762-a611-c60bdc58938b",
   "metadata": {},
   "source": [
    "# 1"
   ]
  },
  {
   "cell_type": "code",
   "execution_count": 1,
   "id": "ffaffc4e-f763-427f-958c-ed7004ef90b2",
   "metadata": {},
   "outputs": [
    {
     "name": "stdout",
     "output_type": "stream",
     "text": [
      "Card number is valid.\n"
     ]
    }
   ],
   "source": [
    "def luhn_algorithm(card_number):\n",
    "    card_number_str = str(card_number)\n",
    "    \n",
    "    card_number_str = card_number_str[::-1]\n",
    "\n",
    "    total_sum = 0\n",
    "\n",
    "    for i, digit in enumerate(card_number_str):\n",
    "        digit = int(digit)  \n",
    "        if i % 2 == 1:\n",
    "            digit *= 2\n",
    "            if digit > 9:\n",
    "                digit -= 9 \n",
    "\n",
    "        total_sum += digit\n",
    "\n",
    "    return total_sum % 10 == 0\n",
    "\n",
    "card_number = 1234567812345670 \n",
    "if luhn_algorithm(card_number):\n",
    "    print(\"Card number is valid.\")\n",
    "else:\n",
    "    print(\"Card number is invalid.\")"
   ]
  },
  {
   "cell_type": "markdown",
   "id": "b1644ee7-93a6-4965-bb19-b474f1c36797",
   "metadata": {},
   "source": [
    "# 2"
   ]
  },
  {
   "cell_type": "code",
   "execution_count": 4,
   "id": "e0fc7851-12c6-4c42-b8d0-f55a79993cd9",
   "metadata": {},
   "outputs": [
    {
     "name": "stdout",
     "output_type": "stream",
     "text": [
      " Hello im kaif\n"
     ]
    }
   ],
   "source": [
    "def remove_punctuation(input_string):\n",
    "    punctuation = '''!\"#$%&'()*+,-./:;<=>?@[\\\\]^_`{|}~'''\n",
    "    result = \" \"\n",
    "    \n",
    "    for char in input_string:\n",
    "        if char not in punctuation:\n",
    "            result += char\n",
    "    \n",
    "    return result\n",
    "\n",
    "input_string = \"Hello! i'm kaif.\"\n",
    "result = remove_punctuation(input_string)\n",
    "print(result)\n"
   ]
  },
  {
   "cell_type": "markdown",
   "id": "5cd069dd-8648-4d70-91da-258e9ed3bb5a",
   "metadata": {},
   "source": [
    "# 3"
   ]
  },
  {
   "cell_type": "code",
   "execution_count": 5,
   "id": "d4cc7fb7-e8b7-4843-911a-48d3ec634193",
   "metadata": {},
   "outputs": [
    {
     "name": "stdout",
     "output_type": "stream",
     "text": [
      "Sorted sentence: I Muslim a am be proud to very\n"
     ]
    }
   ],
   "source": [
    "def sort_sentence(sentence):\n",
    "    words = sentence.split()\n",
    "    \n",
    "    sorted_words = sorted(words)\n",
    "    \n",
    "    sorted_sentence = ' '.join(sorted_words)\n",
    "    \n",
    "    return sorted_sentence\n",
    "\n",
    "sentence = \"I am very proud to be a Muslim\"\n",
    "sorted_sentence = sort_sentence(sentence)\n",
    "print(\"Sorted sentence:\", sorted_sentence)"
   ]
  },
  {
   "cell_type": "code",
   "execution_count": null,
   "id": "a3d509d0-7e0a-49cf-b653-39f11912a7e6",
   "metadata": {},
   "outputs": [],
   "source": []
  }
 ],
 "metadata": {
  "kernelspec": {
   "display_name": "Python 3 (ipykernel)",
   "language": "python",
   "name": "python3"
  },
  "language_info": {
   "codemirror_mode": {
    "name": "ipython",
    "version": 3
   },
   "file_extension": ".py",
   "mimetype": "text/x-python",
   "name": "python",
   "nbconvert_exporter": "python",
   "pygments_lexer": "ipython3",
   "version": "3.11.7"
  }
 },
 "nbformat": 4,
 "nbformat_minor": 5
}
