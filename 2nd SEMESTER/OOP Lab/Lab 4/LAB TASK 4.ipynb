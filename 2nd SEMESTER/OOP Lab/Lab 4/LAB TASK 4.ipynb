{
 "cells": [
  {
   "cell_type": "code",
   "execution_count": 2,
   "id": "c7d69178-8828-4a23-9867-504304453bc4",
   "metadata": {},
   "outputs": [
    {
     "name": "stdout",
     "output_type": "stream",
     "text": [
      "'1984' by George Orwell (Published: 1949)\n",
      "1984 is considered a classic.\n"
     ]
    }
   ],
   "source": [
    "class Book:\n",
    "    def __init__(self, name, writer, year):\n",
    "        self.name = name\n",
    "        self.writer = writer\n",
    "        self.year = year\n",
    "\n",
    "    def __str__(self):\n",
    "        return f\"'{self.name}' by {self.writer} (Published: {self.year})\"\n",
    "\n",
    "    def is_classic(self):\n",
    "        return self.year < 1970\n",
    "\n",
    "\n",
    "book = Book(\"1984\", \"George Orwell\", 1949)\n",
    "print(book)\n",
    "\n",
    "print(f\"{book.name} is considered a classic.\" if book.is_classic() else f\"{book.name} is not considered a classic.\")\n"
   ]
  },
  {
   "cell_type": "code",
   "execution_count": null,
   "id": "b5d3ce21-1bd0-4ef1-962b-caa1e96a2c02",
   "metadata": {},
   "outputs": [],
   "source": []
  }
 ],
 "metadata": {
  "kernelspec": {
   "display_name": "Python 3 (ipykernel)",
   "language": "python",
   "name": "python3"
  },
  "language_info": {
   "codemirror_mode": {
    "name": "ipython",
    "version": 3
   },
   "file_extension": ".py",
   "mimetype": "text/x-python",
   "name": "python",
   "nbconvert_exporter": "python",
   "pygments_lexer": "ipython3",
   "version": "3.11.7"
  }
 },
 "nbformat": 4,
 "nbformat_minor": 5
}
