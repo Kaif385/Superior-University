{
 "cells": [
  {
   "cell_type": "code",
   "execution_count": 2,
   "id": "12dbccc0-6c2f-4460-8c20-ae94d62e61d2",
   "metadata": {},
   "outputs": [
    {
     "name": "stdout",
     "output_type": "stream",
     "text": [
      "Vehicle - Make: Nissan, Model: Altima\n",
      "Vehicle - Make: Ford, Model: Focus\n",
      "Car - Make: Ford, Model: Focus, Number of Doors: 4\n",
      "Vehicle - Make: BMW, Model: 7 Series\n",
      "Luxury Car - Make: BMW, Model: 7 Series, Number of Doors: 4, Luxury Features: Massage Seats, Ambient Lighting\n"
     ]
    }
   ],
   "source": [
    "class Vehicle:\n",
    "    def __init__(self, Make, Model):\n",
    "        self.Make = Make\n",
    "        self.Model = Model\n",
    "\n",
    "    def DisplayInfo(self):\n",
    "        print(f\"Vehicle - Make: {self.Make}, Model: {self.Model}\")\n",
    "\n",
    "\n",
    "class Car(Vehicle):\n",
    "    def __init__(self, Make, Model, NumDoors):\n",
    "        super().__init__(Make, Model)\n",
    "        self.NumDoors = NumDoors\n",
    "\n",
    "    def AdditionalInfo(self):\n",
    "        print(f\"Car - Make: {self.Make}, Model: {self.Model}, Number of Doors: {self.NumDoors}\")\n",
    "\n",
    "\n",
    "class LuxuryCar(Car):\n",
    "    def __init__(self, Make, Model, NumDoors, Features):\n",
    "        super().__init__(Make, Model, NumDoors)\n",
    "        self.Features = Features\n",
    "\n",
    "    def AdditionalInfo(self):\n",
    "        features_str = ', '.join(self.Features)\n",
    "        print(f\"Luxury Car - Make: {self.Make}, Model: {self.Model}, Number of Doors: {self.NumDoors}, Luxury Features: {features_str}\")\n",
    "\n",
    "\n",
    "myVehicle = Vehicle(\"Nissan\", \"Altima\")\n",
    "myVehicle.DisplayInfo()\n",
    "\n",
    "myCar = Car(\"Ford\", \"Focus\", 4)\n",
    "myCar.DisplayInfo()\n",
    "myCar.AdditionalInfo()\n",
    "\n",
    "myLuxuryCar = LuxuryCar(\"BMW\", \"7 Series\", 4, [\"Massage Seats\", \"Ambient Lighting\"])\n",
    "myLuxuryCar.DisplayInfo()\n",
    "myLuxuryCar.AdditionalInfo()\n"
   ]
  },
  {
   "cell_type": "code",
   "execution_count": null,
   "id": "874f84b6-0d44-4c54-abeb-53841b46edd6",
   "metadata": {},
   "outputs": [],
   "source": []
  }
 ],
 "metadata": {
  "kernelspec": {
   "display_name": "Python 3 (ipykernel)",
   "language": "python",
   "name": "python3"
  },
  "language_info": {
   "codemirror_mode": {
    "name": "ipython",
    "version": 3
   },
   "file_extension": ".py",
   "mimetype": "text/x-python",
   "name": "python",
   "nbconvert_exporter": "python",
   "pygments_lexer": "ipython3",
   "version": "3.11.7"
  }
 },
 "nbformat": 4,
 "nbformat_minor": 5
}
