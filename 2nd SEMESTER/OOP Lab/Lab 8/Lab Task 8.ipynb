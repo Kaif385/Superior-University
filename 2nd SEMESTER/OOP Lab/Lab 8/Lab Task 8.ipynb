{
 "cells": [
  {
   "cell_type": "code",
   "execution_count": 2,
   "id": "e8b398a6-8943-4274-bb66-4138bda6a206",
   "metadata": {},
   "outputs": [
    {
     "name": "stdout",
     "output_type": "stream",
     "text": [
      "\n",
      "Employee Management System\n",
      "1. Display all employee details\n",
      "2. Add a new employee\n",
      "3. Save and exit\n"
     ]
    },
    {
     "name": "stdin",
     "output_type": "stream",
     "text": [
      "Enter your choice:  1\n"
     ]
    },
    {
     "name": "stdout",
     "output_type": "stream",
     "text": [
      "\n",
      "Employee Details:\n",
      "\n",
      "Employee Management System\n",
      "1. Display all employee details\n",
      "2. Add a new employee\n",
      "3. Save and exit\n"
     ]
    },
    {
     "name": "stdin",
     "output_type": "stream",
     "text": [
      "Enter your choice:  2\n",
      "Enter employee name:  kaif\n",
      "Enter employee age:  20\n",
      "Enter employee ID:  1022\n",
      "Enter employee position:  AI Expert\n",
      "Enter department:  Information Technology\n"
     ]
    },
    {
     "name": "stdout",
     "output_type": "stream",
     "text": [
      "\n",
      "Employee Management System\n",
      "1. Display all employee details\n",
      "2. Add a new employee\n",
      "3. Save and exit\n"
     ]
    },
    {
     "name": "stdin",
     "output_type": "stream",
     "text": [
      "Enter your choice:  1\n"
     ]
    },
    {
     "name": "stdout",
     "output_type": "stream",
     "text": [
      "\n",
      "Employee Details:\n",
      "Name: kaif, Age: 20\n",
      "Employee ID: 1022, Position: AI Expert\n",
      "Department: Information Technology\n",
      "------------------------------\n",
      "\n",
      "Employee Management System\n",
      "1. Display all employee details\n",
      "2. Add a new employee\n",
      "3. Save and exit\n"
     ]
    },
    {
     "name": "stdin",
     "output_type": "stream",
     "text": [
      "Enter your choice:  3\n"
     ]
    },
    {
     "name": "stdout",
     "output_type": "stream",
     "text": [
      "Employee data saved. Exiting...\n"
     ]
    }
   ],
   "source": [
    "import csv\n",
    "import os\n",
    "\n",
    "class Person:\n",
    "    def __init__(self, name, age):\n",
    "        self.name = name\n",
    "        self.age = age\n",
    "\n",
    "    def display_info(self):\n",
    "        print(f\"Name: {self.name}, Age: {self.age}\")\n",
    "\n",
    "\n",
    "class Employee:\n",
    "    def __init__(self, employee_id, position):\n",
    "        self.employee_id = employee_id\n",
    "        self.position = position\n",
    "\n",
    "    def display_info(self):\n",
    "        print(f\"Employee ID: {self.employee_id}, Position: {self.position}\")\n",
    "\n",
    "\n",
    "class Staff(Person, Employee):\n",
    "    def __init__(self, name, age, employee_id, position, department):\n",
    "        Person.__init__(self, name, age)\n",
    "        Employee.__init__(self, employee_id, position)\n",
    "        self.department = department\n",
    "\n",
    "    def display_info(self):\n",
    "        Person.display_info(self)\n",
    "        Employee.display_info(self)\n",
    "\n",
    "    def additional_info(self):\n",
    "        print(f\"Department: {self.department}\")\n",
    "\n",
    "\n",
    "def read_employee_data(filename):\n",
    "    employees = []\n",
    "    if not os.path.exists(filename):\n",
    "        with open(filename, mode='w', newline='') as file:\n",
    "            writer = csv.writer(file)\n",
    "            writer.writerow([\"Name\", \"Age\", \"Employee ID\", \"Position\", \"Department\"])\n",
    "    else:\n",
    "        with open(filename, mode='r', newline='') as file:\n",
    "            reader = csv.reader(file)\n",
    "            next(reader)\n",
    "            for row in reader:\n",
    "                if row:\n",
    "                    name, age, employee_id, position, department = row\n",
    "                    employees.append(Staff(name, int(age), employee_id, position, department))\n",
    "    return employees\n",
    "\n",
    "\n",
    "def save_employee_data(filename, employees):\n",
    "    with open(filename, mode='w', newline='') as file:\n",
    "        writer = csv.writer(file)\n",
    "        writer.writerow([\"Name\", \"Age\", \"Employee ID\", \"Position\", \"Department\"])\n",
    "        for employee in employees:\n",
    "            writer.writerow([employee.name, employee.age, employee.employee_id, employee.position, employee.department])\n",
    "\n",
    "\n",
    "def add_employee(employees, name, age, employee_id, position, department):\n",
    "    new_employee = Staff(name, age, employee_id, position, department)\n",
    "    employees.append(new_employee)\n",
    "\n",
    "\n",
    "filename = \"employee_data.csv\"\n",
    "\n",
    "employees = read_employee_data(filename)\n",
    "\n",
    "while True:\n",
    "    print(\"\\nEmployee Management System\")\n",
    "    print(\"1. Display all employee details\")\n",
    "    print(\"2. Add a new employee\")\n",
    "    print(\"3. Save and exit\")\n",
    "    choice = input(\"Enter your choice: \")\n",
    "\n",
    "    if choice == \"1\":\n",
    "        print(\"\\nEmployee Details:\")\n",
    "        for emp in employees:\n",
    "            emp.display_info()\n",
    "            emp.additional_info()\n",
    "            print(\"-\" * 30)\n",
    "    elif choice == \"2\":\n",
    "        name = input(\"Enter employee name: \")\n",
    "        age = int(input(\"Enter employee age: \"))\n",
    "        employee_id = input(\"Enter employee ID: \")\n",
    "        position = input(\"Enter employee position: \")\n",
    "        department = input(\"Enter department: \")\n",
    "        add_employee(employees, name, age, employee_id, position, department)\n",
    "    elif choice == \"3\":\n",
    "        save_employee_data(filename, employees)\n",
    "        print(\"Employee data saved. Exiting...\")\n",
    "        break\n",
    "    else:\n",
    "        print(\"Invalid choice. Please try again.\")\n"
   ]
  },
  {
   "cell_type": "code",
   "execution_count": null,
   "id": "0f04414f-8af8-478d-8933-3f7462e5846e",
   "metadata": {},
   "outputs": [],
   "source": []
  }
 ],
 "metadata": {
  "kernelspec": {
   "display_name": "Python 3 (ipykernel)",
   "language": "python",
   "name": "python3"
  },
  "language_info": {
   "codemirror_mode": {
    "name": "ipython",
    "version": 3
   },
   "file_extension": ".py",
   "mimetype": "text/x-python",
   "name": "python",
   "nbconvert_exporter": "python",
   "pygments_lexer": "ipython3",
   "version": "3.11.7"
  }
 },
 "nbformat": 4,
 "nbformat_minor": 5
}
